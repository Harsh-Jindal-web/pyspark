{
 "cells": [
  {
   "cell_type": "markdown",
   "metadata": {
    "application/vnd.databricks.v1+cell": {
     "cellMetadata": {},
     "inputWidgets": {},
     "nuid": "ee23c0b7-8099-4528-a30d-4155bec2e335",
     "showTitle": false,
     "tableResultSettingsMap": {},
     "title": ""
    }
   },
   "source": [
    "**Create the Dataframes**"
   ]
  },
  {
   "cell_type": "code",
   "execution_count": 0,
   "metadata": {
    "application/vnd.databricks.v1+cell": {
     "cellMetadata": {
      "byteLimit": 2048000,
      "rowLimit": 10000
     },
     "inputWidgets": {},
     "nuid": "0d8b908f-1cf8-4533-bd50-555c529e1d01",
     "showTitle": false,
     "tableResultSettingsMap": {},
     "title": ""
    }
   },
   "outputs": [],
   "source": [
    "from pyspark.sql import SparkSession\n",
    "\n",
    "spark = SparkSession.builder.getOrCreate()\n",
    "\n",
    "transactions_data = [(\"A\", 100), (\"A\", 200), (\"A\", 300), (\"B\", 150), (\"C\", 250)]\n",
    "transactions_df = spark.createDataFrame(transactions_data, [\"user_id\", \"amount\"])\n",
    "\n",
    "users_data = [(\"A\", \"India\"), (\"B\", \"USA\"), (\"C\", \"UK\")]\n",
    "users_df = spark.createDataFrame(users_data, [\"user_id\", \"country\"])\n"
   ]
  },
  {
   "cell_type": "markdown",
   "metadata": {
    "application/vnd.databricks.v1+cell": {
     "cellMetadata": {},
     "inputWidgets": {},
     "nuid": "ea87a2c6-aac9-452a-92cd-e2241fe52fbb",
     "showTitle": false,
     "tableResultSettingsMap": {},
     "title": ""
    }
   },
   "source": [
    "**Salt the transaction_df**"
   ]
  },
  {
   "cell_type": "code",
   "execution_count": 0,
   "metadata": {
    "application/vnd.databricks.v1+cell": {
     "cellMetadata": {
      "byteLimit": 2048000,
      "rowLimit": 10000
     },
     "inputWidgets": {},
     "nuid": "519a320e-d775-4008-b4ce-c562b91322d9",
     "showTitle": false,
     "tableResultSettingsMap": {},
     "title": ""
    }
   },
   "outputs": [],
   "source": [
    "from pyspark.sql.functions import *\n",
    "\n",
    "salt_count = 3\n",
    "\n",
    "# Add a random salt\n",
    "transactions_salted = transactions_df.withColumn(\"salt\", floor(rand() * salt_count))\n",
    "\n",
    "# Create salted user_id\n",
    "transactions_salted = transactions_salted.withColumn(\"salted_user_id\", concat_ws(\"_\", \"user_id\", \"salt\"))\n"
   ]
  },
  {
   "cell_type": "code",
   "execution_count": 0,
   "metadata": {
    "application/vnd.databricks.v1+cell": {
     "cellMetadata": {
      "byteLimit": 2048000,
      "rowLimit": 10000
     },
     "inputWidgets": {},
     "nuid": "e0040bf8-16af-48ea-b3a6-5af8963a3bfd",
     "showTitle": false,
     "tableResultSettingsMap": {},
     "title": ""
    }
   },
   "outputs": [
    {
     "output_type": "display_data",
     "data": {
      "text/html": [
       "<style scoped>\n",
       "  .table-result-container {\n",
       "    max-height: 300px;\n",
       "    overflow: auto;\n",
       "  }\n",
       "  table, th, td {\n",
       "    border: 1px solid black;\n",
       "    border-collapse: collapse;\n",
       "  }\n",
       "  th, td {\n",
       "    padding: 5px;\n",
       "  }\n",
       "  th {\n",
       "    text-align: left;\n",
       "  }\n",
       "</style><div class='table-result-container'><table class='table-result'><thead style='background-color: white'><tr><th>user_id</th><th>amount</th><th>salt</th><th>salted_user_id</th></tr></thead><tbody><tr><td>A</td><td>100</td><td>1</td><td>A_1</td></tr><tr><td>A</td><td>200</td><td>0</td><td>A_0</td></tr><tr><td>A</td><td>300</td><td>0</td><td>A_0</td></tr><tr><td>B</td><td>150</td><td>0</td><td>B_0</td></tr><tr><td>C</td><td>250</td><td>2</td><td>C_2</td></tr></tbody></table></div>"
      ]
     },
     "metadata": {
      "application/vnd.databricks.v1+output": {
       "addedWidgets": {},
       "aggData": [],
       "aggError": "",
       "aggOverflow": false,
       "aggSchema": [],
       "aggSeriesLimitReached": false,
       "aggType": "",
       "arguments": {},
       "columnCustomDisplayInfos": {},
       "data": [
        [
         "A",
         100,
         1,
         "A_1"
        ],
        [
         "A",
         200,
         0,
         "A_0"
        ],
        [
         "A",
         300,
         0,
         "A_0"
        ],
        [
         "B",
         150,
         0,
         "B_0"
        ],
        [
         "C",
         250,
         2,
         "C_2"
        ]
       ],
       "datasetInfos": [],
       "dbfsResultPath": null,
       "isJsonSchema": true,
       "metadata": {},
       "overflow": false,
       "plotOptions": {
        "customPlotOptions": {},
        "displayType": "table",
        "pivotAggregation": null,
        "pivotColumns": null,
        "xColumns": null,
        "yColumns": null
       },
       "removedWidgets": [],
       "schema": [
        {
         "metadata": "{}",
         "name": "user_id",
         "type": "\"string\""
        },
        {
         "metadata": "{}",
         "name": "amount",
         "type": "\"long\""
        },
        {
         "metadata": "{}",
         "name": "salt",
         "type": "\"long\""
        },
        {
         "metadata": "{}",
         "name": "salted_user_id",
         "type": "\"string\""
        }
       ],
       "type": "table"
      }
     },
     "output_type": "display_data"
    }
   ],
   "source": [
    "# Displaying transactions_df\n",
    "transactions_salted.display()"
   ]
  },
  {
   "cell_type": "markdown",
   "metadata": {
    "application/vnd.databricks.v1+cell": {
     "cellMetadata": {},
     "inputWidgets": {},
     "nuid": "6ec38ca3-0c82-46ca-9c2b-d0c58dea9a09",
     "showTitle": false,
     "tableResultSettingsMap": {},
     "title": ""
    }
   },
   "source": [
    "**Adding Salt to users_df (all the values of salt) and then Exploding it**"
   ]
  },
  {
   "cell_type": "code",
   "execution_count": 0,
   "metadata": {
    "application/vnd.databricks.v1+cell": {
     "cellMetadata": {
      "byteLimit": 2048000,
      "rowLimit": 10000
     },
     "inputWidgets": {},
     "nuid": "f4bcd6af-b4f3-4c1f-8784-d3c8429708c7",
     "showTitle": false,
     "tableResultSettingsMap": {},
     "title": ""
    }
   },
   "outputs": [],
   "source": [
    "from pyspark.sql.functions import explode, array, lit\n",
    "\n",
    "# Create array of salt values [0,1,2] for each row\n",
    "users_df = users_df.withColumn(\"salt\", array([lit(i) for i in range(salt_count)]))\n",
    "\n",
    "# Exploding the values of the array \n",
    "users_expanded = users_df.withColumn(\"salt\", explode(col('salt')))\n",
    "\n",
    "# Create salted user_id\n",
    "users_expanded = users_expanded.withColumn(\"salted_user_id\", concat_ws(\"_\", \"user_id\", \"salt\"))\n"
   ]
  },
  {
   "cell_type": "code",
   "execution_count": 0,
   "metadata": {
    "application/vnd.databricks.v1+cell": {
     "cellMetadata": {
      "byteLimit": 2048000,
      "rowLimit": 10000
     },
     "inputWidgets": {},
     "nuid": "3966c903-7f8e-4ba1-af5f-660779260a5e",
     "showTitle": false,
     "tableResultSettingsMap": {},
     "title": ""
    }
   },
   "outputs": [
    {
     "output_type": "display_data",
     "data": {
      "text/html": [
       "<style scoped>\n",
       "  .table-result-container {\n",
       "    max-height: 300px;\n",
       "    overflow: auto;\n",
       "  }\n",
       "  table, th, td {\n",
       "    border: 1px solid black;\n",
       "    border-collapse: collapse;\n",
       "  }\n",
       "  th, td {\n",
       "    padding: 5px;\n",
       "  }\n",
       "  th {\n",
       "    text-align: left;\n",
       "  }\n",
       "</style><div class='table-result-container'><table class='table-result'><thead style='background-color: white'><tr><th>user_id</th><th>country</th><th>salt</th><th>salted_user_id</th></tr></thead><tbody><tr><td>A</td><td>India</td><td>0</td><td>A_0</td></tr><tr><td>A</td><td>India</td><td>1</td><td>A_1</td></tr><tr><td>A</td><td>India</td><td>2</td><td>A_2</td></tr><tr><td>B</td><td>USA</td><td>0</td><td>B_0</td></tr><tr><td>B</td><td>USA</td><td>1</td><td>B_1</td></tr><tr><td>B</td><td>USA</td><td>2</td><td>B_2</td></tr><tr><td>C</td><td>UK</td><td>0</td><td>C_0</td></tr><tr><td>C</td><td>UK</td><td>1</td><td>C_1</td></tr><tr><td>C</td><td>UK</td><td>2</td><td>C_2</td></tr></tbody></table></div>"
      ]
     },
     "metadata": {
      "application/vnd.databricks.v1+output": {
       "addedWidgets": {},
       "aggData": [],
       "aggError": "",
       "aggOverflow": false,
       "aggSchema": [],
       "aggSeriesLimitReached": false,
       "aggType": "",
       "arguments": {},
       "columnCustomDisplayInfos": {},
       "data": [
        [
         "A",
         "India",
         0,
         "A_0"
        ],
        [
         "A",
         "India",
         1,
         "A_1"
        ],
        [
         "A",
         "India",
         2,
         "A_2"
        ],
        [
         "B",
         "USA",
         0,
         "B_0"
        ],
        [
         "B",
         "USA",
         1,
         "B_1"
        ],
        [
         "B",
         "USA",
         2,
         "B_2"
        ],
        [
         "C",
         "UK",
         0,
         "C_0"
        ],
        [
         "C",
         "UK",
         1,
         "C_1"
        ],
        [
         "C",
         "UK",
         2,
         "C_2"
        ]
       ],
       "datasetInfos": [],
       "dbfsResultPath": null,
       "isJsonSchema": true,
       "metadata": {},
       "overflow": false,
       "plotOptions": {
        "customPlotOptions": {},
        "displayType": "table",
        "pivotAggregation": null,
        "pivotColumns": null,
        "xColumns": null,
        "yColumns": null
       },
       "removedWidgets": [],
       "schema": [
        {
         "metadata": "{}",
         "name": "user_id",
         "type": "\"string\""
        },
        {
         "metadata": "{}",
         "name": "country",
         "type": "\"string\""
        },
        {
         "metadata": "{}",
         "name": "salt",
         "type": "\"integer\""
        },
        {
         "metadata": "{}",
         "name": "salted_user_id",
         "type": "\"string\""
        }
       ],
       "type": "table"
      }
     },
     "output_type": "display_data"
    }
   ],
   "source": [
    "# Displaying users_expanded\n",
    "\n",
    "users_expanded.display()"
   ]
  },
  {
   "cell_type": "markdown",
   "metadata": {
    "application/vnd.databricks.v1+cell": {
     "cellMetadata": {},
     "inputWidgets": {},
     "nuid": "2e21d0f6-85a4-467a-9627-949b0166e5fa",
     "showTitle": false,
     "tableResultSettingsMap": {},
     "title": ""
    }
   },
   "source": [
    "**Applying JOIN**"
   ]
  },
  {
   "cell_type": "code",
   "execution_count": 0,
   "metadata": {
    "application/vnd.databricks.v1+cell": {
     "cellMetadata": {
      "byteLimit": 2048000,
      "rowLimit": 10000
     },
     "inputWidgets": {},
     "nuid": "dcd4f3fb-7793-492c-8ff7-4f9fdc575fcf",
     "showTitle": false,
     "tableResultSettingsMap": {},
     "title": ""
    }
   },
   "outputs": [],
   "source": [
    "joined_df = transactions_salted.join(users_expanded, on=\"salted_user_id\", how=\"inner\")"
   ]
  },
  {
   "cell_type": "code",
   "execution_count": 0,
   "metadata": {
    "application/vnd.databricks.v1+cell": {
     "cellMetadata": {
      "byteLimit": 2048000,
      "rowLimit": 10000
     },
     "inputWidgets": {},
     "nuid": "cc352431-d0ac-4727-b46b-27d7631bb403",
     "showTitle": false,
     "tableResultSettingsMap": {},
     "title": ""
    }
   },
   "outputs": [
    {
     "output_type": "display_data",
     "data": {
      "text/html": [
       "<style scoped>\n",
       "  .table-result-container {\n",
       "    max-height: 300px;\n",
       "    overflow: auto;\n",
       "  }\n",
       "  table, th, td {\n",
       "    border: 1px solid black;\n",
       "    border-collapse: collapse;\n",
       "  }\n",
       "  th, td {\n",
       "    padding: 5px;\n",
       "  }\n",
       "  th {\n",
       "    text-align: left;\n",
       "  }\n",
       "</style><div class='table-result-container'><table class='table-result'><thead style='background-color: white'><tr><th>salted_user_id</th><th>user_id</th><th>amount</th><th>salt</th><th>user_id</th><th>country</th><th>salt</th></tr></thead><tbody><tr><td>A_0</td><td>A</td><td>200</td><td>0</td><td>A</td><td>India</td><td>0</td></tr><tr><td>A_0</td><td>A</td><td>300</td><td>0</td><td>A</td><td>India</td><td>0</td></tr><tr><td>A_1</td><td>A</td><td>100</td><td>1</td><td>A</td><td>India</td><td>1</td></tr><tr><td>B_0</td><td>B</td><td>150</td><td>0</td><td>B</td><td>USA</td><td>0</td></tr><tr><td>C_2</td><td>C</td><td>250</td><td>2</td><td>C</td><td>UK</td><td>2</td></tr></tbody></table></div>"
      ]
     },
     "metadata": {
      "application/vnd.databricks.v1+output": {
       "addedWidgets": {},
       "aggData": [],
       "aggError": "",
       "aggOverflow": false,
       "aggSchema": [],
       "aggSeriesLimitReached": false,
       "aggType": "",
       "arguments": {},
       "columnCustomDisplayInfos": {},
       "data": [
        [
         "A_0",
         "A",
         200,
         0,
         "A",
         "India",
         0
        ],
        [
         "A_0",
         "A",
         300,
         0,
         "A",
         "India",
         0
        ],
        [
         "A_1",
         "A",
         100,
         1,
         "A",
         "India",
         1
        ],
        [
         "B_0",
         "B",
         150,
         0,
         "B",
         "USA",
         0
        ],
        [
         "C_2",
         "C",
         250,
         2,
         "C",
         "UK",
         2
        ]
       ],
       "datasetInfos": [],
       "dbfsResultPath": null,
       "isJsonSchema": true,
       "metadata": {},
       "overflow": false,
       "plotOptions": {
        "customPlotOptions": {},
        "displayType": "table",
        "pivotAggregation": null,
        "pivotColumns": null,
        "xColumns": null,
        "yColumns": null
       },
       "removedWidgets": [],
       "schema": [
        {
         "metadata": "{}",
         "name": "salted_user_id",
         "type": "\"string\""
        },
        {
         "metadata": "{}",
         "name": "user_id",
         "type": "\"string\""
        },
        {
         "metadata": "{}",
         "name": "amount",
         "type": "\"long\""
        },
        {
         "metadata": "{}",
         "name": "salt",
         "type": "\"long\""
        },
        {
         "metadata": "{}",
         "name": "user_id",
         "type": "\"string\""
        },
        {
         "metadata": "{}",
         "name": "country",
         "type": "\"string\""
        },
        {
         "metadata": "{}",
         "name": "salt",
         "type": "\"integer\""
        }
       ],
       "type": "table"
      }
     },
     "output_type": "display_data"
    }
   ],
   "source": [
    "joined_df.display()"
   ]
  },
  {
   "cell_type": "code",
   "execution_count": 0,
   "metadata": {
    "application/vnd.databricks.v1+cell": {
     "cellMetadata": {},
     "inputWidgets": {},
     "nuid": "5fe03beb-91e5-416a-b7eb-4e21ba08d3de",
     "showTitle": false,
     "tableResultSettingsMap": {},
     "title": ""
    }
   },
   "outputs": [],
   "source": []
  }
 ],
 "metadata": {
  "application/vnd.databricks.v1+notebook": {
   "computePreferences": null,
   "dashboards": [],
   "environmentMetadata": {
    "base_environment": "",
    "environment_version": "1"
   },
   "inputWidgetPreferences": null,
   "language": "python",
   "notebookMetadata": {
    "pythonIndentUnit": 4
   },
   "notebookName": "SALTING JOINS (BONUS)",
   "widgets": {}
  }
 },
 "nbformat": 4,
 "nbformat_minor": 0
}