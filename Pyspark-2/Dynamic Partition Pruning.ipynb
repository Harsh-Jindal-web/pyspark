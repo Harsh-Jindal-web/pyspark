{
 "cells": [
  {
   "cell_type": "markdown",
   "metadata": {
    "application/vnd.databricks.v1+cell": {
     "cellMetadata": {},
     "inputWidgets": {},
     "nuid": "935371fc-ee04-4e05-ba0b-995a2b6c24e3",
     "showTitle": false,
     "tableResultSettingsMap": {},
     "title": ""
    }
   },
   "source": [
    "**Turning OFF AQE and DPP and AutoBroadcast**"
   ]
  },
  {
   "cell_type": "code",
   "execution_count": 0,
   "metadata": {
    "application/vnd.databricks.v1+cell": {
     "cellMetadata": {
      "byteLimit": 2048000,
      "rowLimit": 10000
     },
     "inputWidgets": {},
     "nuid": "9ec112c0-6784-44cc-9ad0-557e8afcdae2",
     "showTitle": false,
     "tableResultSettingsMap": {},
     "title": ""
    }
   },
   "outputs": [],
   "source": [
    "spark.conf.set(\"spark.sql.adaptive.enabled\",\"true\")\n",
    "spark.conf.set(\"spark.sql.optimizer.dynamicPartitionPruning.enabled\", \"true\")\n"
   ]
  },
  {
   "cell_type": "code",
   "execution_count": 0,
   "metadata": {
    "application/vnd.databricks.v1+cell": {
     "cellMetadata": {
      "byteLimit": 2048000,
      "rowLimit": 10000
     },
     "inputWidgets": {},
     "nuid": "13f81237-b4ad-4aec-8a61-5bd6e8a53396",
     "showTitle": false,
     "tableResultSettingsMap": {},
     "title": ""
    }
   },
   "outputs": [],
   "source": [
    "df = spark.read.format(\"csv\")\\\n",
    "        .option(\"header\",True)\\\n",
    "        .option(\"inferSchema\",True)\\\n",
    "        .load(\"/FileStore/rawdata/BigMart_Sales.csv\")\n",
    "\n",
    "df = df.limit(8)"
   ]
  },
  {
   "cell_type": "code",
   "execution_count": 0,
   "metadata": {
    "application/vnd.databricks.v1+cell": {
     "cellMetadata": {
      "byteLimit": 2048000,
      "rowLimit": 10000
     },
     "inputWidgets": {},
     "nuid": "0f698b66-0e63-492d-a038-da7a877b891d",
     "showTitle": false,
     "tableResultSettingsMap": {},
     "title": ""
    }
   },
   "outputs": [
    {
     "output_type": "display_data",
     "data": {
      "text/html": [
       "<style scoped>\n",
       "  .table-result-container {\n",
       "    max-height: 300px;\n",
       "    overflow: auto;\n",
       "  }\n",
       "  table, th, td {\n",
       "    border: 1px solid black;\n",
       "    border-collapse: collapse;\n",
       "  }\n",
       "  th, td {\n",
       "    padding: 5px;\n",
       "  }\n",
       "  th {\n",
       "    text-align: left;\n",
       "  }\n",
       "</style><div class='table-result-container'><table class='table-result'><thead style='background-color: white'><tr><th>Item_Identifier</th><th>Item_Weight</th><th>Item_Fat_Content</th><th>Item_Visibility</th><th>Item_Type</th><th>Item_MRP</th><th>Outlet_Identifier</th><th>Outlet_Establishment_Year</th><th>Outlet_Size</th><th>Outlet_Location_Type</th><th>Outlet_Type</th><th>Item_Outlet_Sales</th></tr></thead><tbody><tr><td>FDA15</td><td>9.3</td><td>Low Fat</td><td>0.016047301</td><td>Dairy</td><td>249.8092</td><td>OUT049</td><td>1999</td><td>Medium</td><td>Tier 1</td><td>Supermarket Type1</td><td>3735.138</td></tr><tr><td>DRC01</td><td>5.92</td><td>Regular</td><td>0.019278216</td><td>Soft Drinks</td><td>48.2692</td><td>OUT018</td><td>2009</td><td>Medium</td><td>Tier 3</td><td>Supermarket Type2</td><td>443.4228</td></tr><tr><td>FDN15</td><td>17.5</td><td>Low Fat</td><td>0.016760075</td><td>Meat</td><td>141.618</td><td>OUT049</td><td>1999</td><td>Medium</td><td>Tier 1</td><td>Supermarket Type1</td><td>2097.27</td></tr><tr><td>FDX07</td><td>19.2</td><td>Regular</td><td>0.0</td><td>Fruits and Vegetables</td><td>182.095</td><td>OUT010</td><td>1998</td><td>null</td><td>Tier 3</td><td>Grocery Store</td><td>732.38</td></tr><tr><td>NCD19</td><td>8.93</td><td>Low Fat</td><td>0.0</td><td>Household</td><td>53.8614</td><td>OUT013</td><td>1987</td><td>High</td><td>Tier 3</td><td>Supermarket Type1</td><td>994.7052</td></tr><tr><td>FDP36</td><td>10.395</td><td>Regular</td><td>0.0</td><td>Baking Goods</td><td>51.4008</td><td>OUT018</td><td>2009</td><td>Medium</td><td>Tier 3</td><td>Supermarket Type2</td><td>556.6088</td></tr><tr><td>FDO10</td><td>13.65</td><td>Regular</td><td>0.012741089</td><td>Snack Foods</td><td>57.6588</td><td>OUT013</td><td>1987</td><td>High</td><td>Tier 3</td><td>Supermarket Type1</td><td>343.5528</td></tr><tr><td>FDP10</td><td>null</td><td>Low Fat</td><td>0.127469857</td><td>Snack Foods</td><td>107.7622</td><td>OUT027</td><td>1985</td><td>Medium</td><td>Tier 3</td><td>Supermarket Type3</td><td>4022.7636</td></tr></tbody></table></div>"
      ]
     },
     "metadata": {
      "application/vnd.databricks.v1+output": {
       "addedWidgets": {},
       "aggData": [],
       "aggError": "",
       "aggOverflow": false,
       "aggSchema": [],
       "aggSeriesLimitReached": false,
       "aggType": "",
       "arguments": {},
       "columnCustomDisplayInfos": {},
       "data": [
        [
         "FDA15",
         9.3,
         "Low Fat",
         0.016047301,
         "Dairy",
         249.8092,
         "OUT049",
         1999,
         "Medium",
         "Tier 1",
         "Supermarket Type1",
         3735.138
        ],
        [
         "DRC01",
         5.92,
         "Regular",
         0.019278216,
         "Soft Drinks",
         48.2692,
         "OUT018",
         2009,
         "Medium",
         "Tier 3",
         "Supermarket Type2",
         443.4228
        ],
        [
         "FDN15",
         17.5,
         "Low Fat",
         0.016760075,
         "Meat",
         141.618,
         "OUT049",
         1999,
         "Medium",
         "Tier 1",
         "Supermarket Type1",
         2097.27
        ],
        [
         "FDX07",
         19.2,
         "Regular",
         0.0,
         "Fruits and Vegetables",
         182.095,
         "OUT010",
         1998,
         null,
         "Tier 3",
         "Grocery Store",
         732.38
        ],
        [
         "NCD19",
         8.93,
         "Low Fat",
         0.0,
         "Household",
         53.8614,
         "OUT013",
         1987,
         "High",
         "Tier 3",
         "Supermarket Type1",
         994.7052
        ],
        [
         "FDP36",
         10.395,
         "Regular",
         0.0,
         "Baking Goods",
         51.4008,
         "OUT018",
         2009,
         "Medium",
         "Tier 3",
         "Supermarket Type2",
         556.6088
        ],
        [
         "FDO10",
         13.65,
         "Regular",
         0.012741089,
         "Snack Foods",
         57.6588,
         "OUT013",
         1987,
         "High",
         "Tier 3",
         "Supermarket Type1",
         343.5528
        ],
        [
         "FDP10",
         null,
         "Low Fat",
         0.127469857,
         "Snack Foods",
         107.7622,
         "OUT027",
         1985,
         "Medium",
         "Tier 3",
         "Supermarket Type3",
         4022.7636
        ]
       ],
       "datasetInfos": [],
       "dbfsResultPath": null,
       "isJsonSchema": true,
       "metadata": {},
       "overflow": false,
       "plotOptions": {
        "customPlotOptions": {},
        "displayType": "table",
        "pivotAggregation": null,
        "pivotColumns": null,
        "xColumns": null,
        "yColumns": null
       },
       "removedWidgets": [],
       "schema": [
        {
         "metadata": "{}",
         "name": "Item_Identifier",
         "type": "\"string\""
        },
        {
         "metadata": "{}",
         "name": "Item_Weight",
         "type": "\"double\""
        },
        {
         "metadata": "{}",
         "name": "Item_Fat_Content",
         "type": "\"string\""
        },
        {
         "metadata": "{}",
         "name": "Item_Visibility",
         "type": "\"double\""
        },
        {
         "metadata": "{}",
         "name": "Item_Type",
         "type": "\"string\""
        },
        {
         "metadata": "{}",
         "name": "Item_MRP",
         "type": "\"double\""
        },
        {
         "metadata": "{}",
         "name": "Outlet_Identifier",
         "type": "\"string\""
        },
        {
         "metadata": "{}",
         "name": "Outlet_Establishment_Year",
         "type": "\"integer\""
        },
        {
         "metadata": "{}",
         "name": "Outlet_Size",
         "type": "\"string\""
        },
        {
         "metadata": "{}",
         "name": "Outlet_Location_Type",
         "type": "\"string\""
        },
        {
         "metadata": "{}",
         "name": "Outlet_Type",
         "type": "\"string\""
        },
        {
         "metadata": "{}",
         "name": "Item_Outlet_Sales",
         "type": "\"double\""
        }
       ],
       "type": "table"
      }
     },
     "output_type": "display_data"
    }
   ],
   "source": [
    "df.display()"
   ]
  },
  {
   "cell_type": "markdown",
   "metadata": {
    "application/vnd.databricks.v1+cell": {
     "cellMetadata": {},
     "inputWidgets": {},
     "nuid": "2b32917d-69f0-47b2-95ae-b5aa89b42b23",
     "showTitle": false,
     "tableResultSettingsMap": {},
     "title": ""
    }
   },
   "source": [
    "**Preparing the Partitioned Data**"
   ]
  },
  {
   "cell_type": "code",
   "execution_count": 0,
   "metadata": {
    "application/vnd.databricks.v1+cell": {
     "cellMetadata": {
      "byteLimit": 2048000,
      "rowLimit": 10000
     },
     "inputWidgets": {},
     "nuid": "81677646-280c-4d58-8db9-355a735047bc",
     "showTitle": false,
     "tableResultSettingsMap": {},
     "title": ""
    }
   },
   "outputs": [],
   "source": [
    "df.write.format(\"parquet\")\\\n",
    "        .mode(\"append\")\\\n",
    "        .partitionBy(\"Item_identifier\")\\\n",
    "        .option(\"path\",\"/FileStore/rawdata/dpp_partionednew\")\\\n",
    "        .save()"
   ]
  },
  {
   "cell_type": "markdown",
   "metadata": {
    "application/vnd.databricks.v1+cell": {
     "cellMetadata": {},
     "inputWidgets": {},
     "nuid": "a77415a4-34d6-4f7d-8685-0154f9acc1e0",
     "showTitle": false,
     "tableResultSettingsMap": {},
     "title": ""
    }
   },
   "source": [
    "**Non Partitioned Data**"
   ]
  },
  {
   "cell_type": "code",
   "execution_count": 0,
   "metadata": {
    "application/vnd.databricks.v1+cell": {
     "cellMetadata": {
      "byteLimit": 2048000,
      "rowLimit": 10000
     },
     "inputWidgets": {},
     "nuid": "b339f65b-4b82-4d06-9433-1e0ed9dd2155",
     "showTitle": false,
     "tableResultSettingsMap": {},
     "title": ""
    }
   },
   "outputs": [],
   "source": [
    "df.write.format(\"parquet\")\\\n",
    "        .mode(\"append\")\\\n",
    "        .option(\"path\",\"/FileStore/rawdata/dpp_nonpartioned\")\\\n",
    "        .save()"
   ]
  },
  {
   "cell_type": "markdown",
   "metadata": {
    "application/vnd.databricks.v1+cell": {
     "cellMetadata": {},
     "inputWidgets": {},
     "nuid": "eb340518-7489-4fdb-9200-fe0a1d8fced8",
     "showTitle": false,
     "tableResultSettingsMap": {},
     "title": ""
    }
   },
   "source": [
    "**Dataframes**"
   ]
  },
  {
   "cell_type": "code",
   "execution_count": 0,
   "metadata": {
    "application/vnd.databricks.v1+cell": {
     "cellMetadata": {
      "byteLimit": 2048000,
      "rowLimit": 10000
     },
     "inputWidgets": {},
     "nuid": "f55d6bfe-a94f-4a64-85af-542add2c4d85",
     "showTitle": false,
     "tableResultSettingsMap": {},
     "title": ""
    }
   },
   "outputs": [],
   "source": [
    "df1 = spark.read.format(\"parquet\")\\\n",
    "          .load(\"/FileStore/rawdata/dpp_partionednew\")"
   ]
  },
  {
   "cell_type": "code",
   "execution_count": 0,
   "metadata": {
    "application/vnd.databricks.v1+cell": {
     "cellMetadata": {
      "byteLimit": 2048000,
      "rowLimit": 10000
     },
     "inputWidgets": {},
     "nuid": "8016f81f-7628-4ade-8043-86241a2e04d4",
     "showTitle": false,
     "tableResultSettingsMap": {},
     "title": ""
    }
   },
   "outputs": [],
   "source": [
    "df2 = spark.read.format(\"parquet\")\\\n",
    "          .load(\"/FileStore/rawdata/dpp_nonpartioned\")"
   ]
  },
  {
   "cell_type": "markdown",
   "metadata": {
    "application/vnd.databricks.v1+cell": {
     "cellMetadata": {},
     "inputWidgets": {},
     "nuid": "c4a98370-f018-45b0-91b6-fe886ced0415",
     "showTitle": false,
     "tableResultSettingsMap": {},
     "title": ""
    }
   },
   "source": [
    "**JOINS**"
   ]
  },
  {
   "cell_type": "code",
   "execution_count": 0,
   "metadata": {
    "application/vnd.databricks.v1+cell": {
     "cellMetadata": {
      "byteLimit": 2048000,
      "rowLimit": 10000
     },
     "inputWidgets": {},
     "nuid": "9916e15e-a6b1-4824-928f-aa7ee09db6cf",
     "showTitle": false,
     "tableResultSettingsMap": {},
     "title": ""
    }
   },
   "outputs": [],
   "source": [
    "from pyspark.sql.functions import *"
   ]
  },
  {
   "cell_type": "code",
   "execution_count": 0,
   "metadata": {
    "application/vnd.databricks.v1+cell": {
     "cellMetadata": {
      "byteLimit": 2048000,
      "rowLimit": 10000
     },
     "inputWidgets": {},
     "nuid": "caa01e23-6078-4740-a594-776479ced4b9",
     "showTitle": false,
     "tableResultSettingsMap": {},
     "title": ""
    }
   },
   "outputs": [],
   "source": [
    "df_join = df1.join(df2.filter(col(\"Item_Identifier\")==\"FDA15\"),df1['Item_Identifier']==df2['Item_Identifier'],\"inner\")"
   ]
  },
  {
   "cell_type": "code",
   "execution_count": 0,
   "metadata": {
    "application/vnd.databricks.v1+cell": {
     "cellMetadata": {
      "byteLimit": 2048000,
      "rowLimit": 10000
     },
     "inputWidgets": {},
     "nuid": "050bc5ef-00e7-40ad-bc54-863bf580bb69",
     "showTitle": false,
     "tableResultSettingsMap": {},
     "title": ""
    }
   },
   "outputs": [
    {
     "output_type": "display_data",
     "data": {
      "text/html": [
       "<style scoped>\n",
       "  .table-result-container {\n",
       "    max-height: 300px;\n",
       "    overflow: auto;\n",
       "  }\n",
       "  table, th, td {\n",
       "    border: 1px solid black;\n",
       "    border-collapse: collapse;\n",
       "  }\n",
       "  th, td {\n",
       "    padding: 5px;\n",
       "  }\n",
       "  th {\n",
       "    text-align: left;\n",
       "  }\n",
       "</style><div class='table-result-container'><table class='table-result'><thead style='background-color: white'><tr><th>Item_Weight</th><th>Item_Fat_Content</th><th>Item_Visibility</th><th>Item_Type</th><th>Item_MRP</th><th>Outlet_Identifier</th><th>Outlet_Establishment_Year</th><th>Outlet_Size</th><th>Outlet_Location_Type</th><th>Outlet_Type</th><th>Item_Outlet_Sales</th><th>Item_identifier</th><th>Item_Identifier</th><th>Item_Weight</th><th>Item_Fat_Content</th><th>Item_Visibility</th><th>Item_Type</th><th>Item_MRP</th><th>Outlet_Identifier</th><th>Outlet_Establishment_Year</th><th>Outlet_Size</th><th>Outlet_Location_Type</th><th>Outlet_Type</th><th>Item_Outlet_Sales</th></tr></thead><tbody><tr><td>9.3</td><td>Low Fat</td><td>0.016047301</td><td>Dairy</td><td>249.8092</td><td>OUT049</td><td>1999</td><td>Medium</td><td>Tier 1</td><td>Supermarket Type1</td><td>3735.138</td><td>FDA15</td><td>FDA15</td><td>9.3</td><td>Low Fat</td><td>0.016047301</td><td>Dairy</td><td>249.8092</td><td>OUT049</td><td>1999</td><td>Medium</td><td>Tier 1</td><td>Supermarket Type1</td><td>3735.138</td></tr></tbody></table></div>"
      ]
     },
     "metadata": {
      "application/vnd.databricks.v1+output": {
       "addedWidgets": {},
       "aggData": [],
       "aggError": "",
       "aggOverflow": false,
       "aggSchema": [],
       "aggSeriesLimitReached": false,
       "aggType": "",
       "arguments": {},
       "columnCustomDisplayInfos": {},
       "data": [
        [
         9.3,
         "Low Fat",
         0.016047301,
         "Dairy",
         249.8092,
         "OUT049",
         1999,
         "Medium",
         "Tier 1",
         "Supermarket Type1",
         3735.138,
         "FDA15",
         "FDA15",
         9.3,
         "Low Fat",
         0.016047301,
         "Dairy",
         249.8092,
         "OUT049",
         1999,
         "Medium",
         "Tier 1",
         "Supermarket Type1",
         3735.138
        ]
       ],
       "datasetInfos": [],
       "dbfsResultPath": null,
       "isJsonSchema": true,
       "metadata": {},
       "overflow": false,
       "plotOptions": {
        "customPlotOptions": {},
        "displayType": "table",
        "pivotAggregation": null,
        "pivotColumns": null,
        "xColumns": null,
        "yColumns": null
       },
       "removedWidgets": [],
       "schema": [
        {
         "metadata": "{}",
         "name": "Item_Weight",
         "type": "\"double\""
        },
        {
         "metadata": "{}",
         "name": "Item_Fat_Content",
         "type": "\"string\""
        },
        {
         "metadata": "{}",
         "name": "Item_Visibility",
         "type": "\"double\""
        },
        {
         "metadata": "{}",
         "name": "Item_Type",
         "type": "\"string\""
        },
        {
         "metadata": "{}",
         "name": "Item_MRP",
         "type": "\"double\""
        },
        {
         "metadata": "{}",
         "name": "Outlet_Identifier",
         "type": "\"string\""
        },
        {
         "metadata": "{}",
         "name": "Outlet_Establishment_Year",
         "type": "\"integer\""
        },
        {
         "metadata": "{}",
         "name": "Outlet_Size",
         "type": "\"string\""
        },
        {
         "metadata": "{}",
         "name": "Outlet_Location_Type",
         "type": "\"string\""
        },
        {
         "metadata": "{}",
         "name": "Outlet_Type",
         "type": "\"string\""
        },
        {
         "metadata": "{}",
         "name": "Item_Outlet_Sales",
         "type": "\"double\""
        },
        {
         "metadata": "{}",
         "name": "Item_identifier",
         "type": "\"string\""
        },
        {
         "metadata": "{}",
         "name": "Item_Identifier",
         "type": "\"string\""
        },
        {
         "metadata": "{}",
         "name": "Item_Weight",
         "type": "\"double\""
        },
        {
         "metadata": "{}",
         "name": "Item_Fat_Content",
         "type": "\"string\""
        },
        {
         "metadata": "{}",
         "name": "Item_Visibility",
         "type": "\"double\""
        },
        {
         "metadata": "{}",
         "name": "Item_Type",
         "type": "\"string\""
        },
        {
         "metadata": "{}",
         "name": "Item_MRP",
         "type": "\"double\""
        },
        {
         "metadata": "{}",
         "name": "Outlet_Identifier",
         "type": "\"string\""
        },
        {
         "metadata": "{}",
         "name": "Outlet_Establishment_Year",
         "type": "\"integer\""
        },
        {
         "metadata": "{}",
         "name": "Outlet_Size",
         "type": "\"string\""
        },
        {
         "metadata": "{}",
         "name": "Outlet_Location_Type",
         "type": "\"string\""
        },
        {
         "metadata": "{}",
         "name": "Outlet_Type",
         "type": "\"string\""
        },
        {
         "metadata": "{}",
         "name": "Item_Outlet_Sales",
         "type": "\"double\""
        }
       ],
       "type": "table"
      }
     },
     "output_type": "display_data"
    }
   ],
   "source": [
    "df_join.display()"
   ]
  },
  {
   "cell_type": "code",
   "execution_count": 0,
   "metadata": {
    "application/vnd.databricks.v1+cell": {
     "cellMetadata": {
      "byteLimit": 2048000,
      "rowLimit": 10000
     },
     "inputWidgets": {},
     "nuid": "e81369d2-6112-44c1-a43c-740265c48e54",
     "showTitle": false,
     "tableResultSettingsMap": {},
     "title": ""
    }
   },
   "outputs": [
    {
     "output_type": "stream",
     "name": "stdout",
     "output_type": "stream",
     "text": [
      "== Physical Plan ==\nAdaptiveSparkPlan isFinalPlan=true\n+- == Final Plan ==\n   *(2) BroadcastHashJoin [Item_Identifier#118], [Item_Identifier#131], Inner, BuildRight, false, true\n   :- *(2) ColumnarToRow\n   :  +- FileScan parquet [Item_Weight#107,Item_Fat_Content#108,Item_Visibility#109,Item_Type#110,Item_MRP#111,Outlet_Identifier#112,Outlet_Establishment_Year#113,Outlet_Size#114,Outlet_Location_Type#115,Outlet_Type#116,Item_Outlet_Sales#117,Item_identifier#118] Batched: true, DataFilters: [], Format: Parquet, Location: InMemoryFileIndex(1 paths)[dbfs:/FileStore/rawdata/dpp_partionednew], PartitionFilters: [isnotnull(Item_identifier#118), (Item_identifier#118 = FDA15)], PushedFilters: [], ReadSchema: struct<Item_Weight:double,Item_Fat_Content:string,Item_Visibility:double,Item_Type:string,Item_MR...\n   +- ShuffleQueryStage 0, Statistics(sizeInBytes=176.0 B, rowCount=1, isRuntime=true)\n      +- Exchange SinglePartition, EXECUTOR_BROADCAST, [plan_id=187]\n         +- *(1) Filter (isnotnull(Item_Identifier#131) AND (Item_Identifier#131 = FDA15))\n            +- *(1) ColumnarToRow\n               +- FileScan parquet [Item_Identifier#131,Item_Weight#132,Item_Fat_Content#133,Item_Visibility#134,Item_Type#135,Item_MRP#136,Outlet_Identifier#137,Outlet_Establishment_Year#138,Outlet_Size#139,Outlet_Location_Type#140,Outlet_Type#141,Item_Outlet_Sales#142] Batched: true, DataFilters: [isnotnull(Item_Identifier#131), (Item_Identifier#131 = FDA15)], Format: Parquet, Location: InMemoryFileIndex(1 paths)[dbfs:/FileStore/rawdata/dpp_nonpartioned], PartitionFilters: [], PushedFilters: [IsNotNull(Item_Identifier), EqualTo(Item_Identifier,FDA15)], ReadSchema: struct<Item_Identifier:string,Item_Weight:double,Item_Fat_Content:string,Item_Visibility:double,I...\n+- == Initial Plan ==\n   BroadcastHashJoin [Item_Identifier#118], [Item_Identifier#131], Inner, BuildRight, false, true\n   :- FileScan parquet [Item_Weight#107,Item_Fat_Content#108,Item_Visibility#109,Item_Type#110,Item_MRP#111,Outlet_Identifier#112,Outlet_Establishment_Year#113,Outlet_Size#114,Outlet_Location_Type#115,Outlet_Type#116,Item_Outlet_Sales#117,Item_identifier#118] Batched: true, DataFilters: [], Format: Parquet, Location: InMemoryFileIndex(1 paths)[dbfs:/FileStore/rawdata/dpp_partionednew], PartitionFilters: [isnotnull(Item_identifier#118), (Item_identifier#118 = FDA15)], PushedFilters: [], ReadSchema: struct<Item_Weight:double,Item_Fat_Content:string,Item_Visibility:double,Item_Type:string,Item_MR...\n   +- Exchange SinglePartition, EXECUTOR_BROADCAST, [plan_id=171]\n      +- Filter (isnotnull(Item_Identifier#131) AND (Item_Identifier#131 = FDA15))\n         +- FileScan parquet [Item_Identifier#131,Item_Weight#132,Item_Fat_Content#133,Item_Visibility#134,Item_Type#135,Item_MRP#136,Outlet_Identifier#137,Outlet_Establishment_Year#138,Outlet_Size#139,Outlet_Location_Type#140,Outlet_Type#141,Item_Outlet_Sales#142] Batched: true, DataFilters: [isnotnull(Item_Identifier#131), (Item_Identifier#131 = FDA15)], Format: Parquet, Location: InMemoryFileIndex(1 paths)[dbfs:/FileStore/rawdata/dpp_nonpartioned], PartitionFilters: [], PushedFilters: [IsNotNull(Item_Identifier), EqualTo(Item_Identifier,FDA15)], ReadSchema: struct<Item_Identifier:string,Item_Weight:double,Item_Fat_Content:string,Item_Visibility:double,I...\n\n\n"
     ]
    }
   ],
   "source": [
    "df_join.explain()"
   ]
  },
  {
   "cell_type": "code",
   "execution_count": 0,
   "metadata": {
    "application/vnd.databricks.v1+cell": {
     "cellMetadata": {},
     "inputWidgets": {},
     "nuid": "a74de063-c223-4268-a5e2-23aad37f98e9",
     "showTitle": false,
     "tableResultSettingsMap": {},
     "title": ""
    }
   },
   "outputs": [],
   "source": []
  }
 ],
 "metadata": {
  "application/vnd.databricks.v1+notebook": {
   "computePreferences": null,
   "dashboards": [],
   "environmentMetadata": {
    "base_environment": "",
    "environment_version": "1"
   },
   "inputWidgetPreferences": null,
   "language": "python",
   "notebookMetadata": {
    "pythonIndentUnit": 4
   },
   "notebookName": "Dynamic Partition Pruning",
   "widgets": {}
  }
 },
 "nbformat": 4,
 "nbformat_minor": 0
}